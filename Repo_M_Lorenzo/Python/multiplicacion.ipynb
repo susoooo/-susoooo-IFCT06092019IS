{
 "cells": [
  {
   "cell_type": "code",
   "execution_count": 1,
   "metadata": {},
   "outputs": [],
   "source": [
    "def multiplicacion(lista):\n",
    "    multi=1\n",
    "    for i in range(4):\n",
    "        if lista[i]>0:\n",
    "            multi=multi*lista[i]\n",
    "    return(multi)"
   ]
  },
  {
   "cell_type": "code",
   "execution_count": 3,
   "metadata": {
    "scrolled": true
   },
   "outputs": [
    {
     "name": "stdout",
     "output_type": "stream",
     "text": [
      "introduzca los numeros a multiplicar:\n",
      "5\n",
      "introduzca los numeros a multiplicar:\n",
      "2\n",
      "introduzca los numeros a multiplicar:\n",
      "1\n",
      "introduzca los numeros a multiplicar:\n",
      "8\n"
     ]
    }
   ],
   "source": [
    "lista=[]\n",
    "for i in range(4):\n",
    "    print(\"introduzca los numeros a multiplicar:\")\n",
    "    a=int(input())\n",
    "    lista=lista+[a]"
   ]
  },
  {
   "cell_type": "code",
   "execution_count": 4,
   "metadata": {},
   "outputs": [],
   "source": [
    "resultado=multiplicacion(lista)"
   ]
  },
  {
   "cell_type": "code",
   "execution_count": 5,
   "metadata": {},
   "outputs": [
    {
     "name": "stdout",
     "output_type": "stream",
     "text": [
      "80\n"
     ]
    }
   ],
   "source": [
    "print(resultado)"
   ]
  },
  {
   "cell_type": "code",
   "execution_count": null,
   "metadata": {},
   "outputs": [],
   "source": []
  }
 ],
 "metadata": {
  "kernelspec": {
   "display_name": "Python 3",
   "language": "python",
   "name": "python3"
  },
  "language_info": {
   "codemirror_mode": {
    "name": "ipython",
    "version": 3
   },
   "file_extension": ".py",
   "mimetype": "text/x-python",
   "name": "python",
   "nbconvert_exporter": "python",
   "pygments_lexer": "ipython3",
   "version": "3.7.6"
  }
 },
 "nbformat": 4,
 "nbformat_minor": 4
}
