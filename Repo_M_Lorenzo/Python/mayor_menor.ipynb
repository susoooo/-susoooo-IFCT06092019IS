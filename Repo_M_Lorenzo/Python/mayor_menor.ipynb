{
 "cells": [
  {
   "cell_type": "code",
   "execution_count": 7,
   "metadata": {},
   "outputs": [],
   "source": [
    "def mayor(lista):\n",
    "    mayor=0\n",
    "    for i in range(3):\n",
    "        if lista[i]>mayor:\n",
    "            mayor=lista[i]\n",
    "\n",
    "    return (mayor)\n"
   ]
  },
  {
   "cell_type": "code",
   "execution_count": 8,
   "metadata": {},
   "outputs": [],
   "source": [
    "def menor(lista):\n",
    "    menor=1000000000000000\n",
    "    for i in range(3):\n",
    "        if lista[i]<menor:\n",
    "            menor=lista[i]\n",
    "    \n",
    "    return menor"
   ]
  },
  {
   "cell_type": "code",
   "execution_count": 10,
   "metadata": {},
   "outputs": [
    {
     "name": "stdout",
     "output_type": "stream",
     "text": [
      "Introduzca el numero:\n",
      "5\n",
      "Introduzca el numero:\n",
      "12\n",
      "Introduzca el numero:\n",
      "20\n"
     ]
    }
   ],
   "source": [
    "print(\"Introduzca el numero:\")\n",
    "lista=[]\n",
    "a=int(input())\n",
    "lista=lista+[a]\n",
    "print(\"Introduzca el numero:\")\n",
    "a=int(input())\n",
    "lista=lista+[a]\n",
    "print(\"Introduzca el numero:\")\n",
    "a=int(input())\n",
    "lista=lista+[a]\n",
    "\n"
   ]
  },
  {
   "cell_type": "code",
   "execution_count": 11,
   "metadata": {},
   "outputs": [],
   "source": [
    "may=mayor(lista)"
   ]
  },
  {
   "cell_type": "code",
   "execution_count": 12,
   "metadata": {},
   "outputs": [],
   "source": [
    "men=menor(lista)"
   ]
  },
  {
   "cell_type": "code",
   "execution_count": 13,
   "metadata": {},
   "outputs": [
    {
     "name": "stdout",
     "output_type": "stream",
     "text": [
      "20\n",
      "5\n"
     ]
    }
   ],
   "source": [
    "print(may)\n",
    "print(men)"
   ]
  },
  {
   "cell_type": "code",
   "execution_count": null,
   "metadata": {},
   "outputs": [],
   "source": []
  }
 ],
 "metadata": {
  "kernelspec": {
   "display_name": "Python 3",
   "language": "python",
   "name": "python3"
  },
  "language_info": {
   "codemirror_mode": {
    "name": "ipython",
    "version": 3
   },
   "file_extension": ".py",
   "mimetype": "text/x-python",
   "name": "python",
   "nbconvert_exporter": "python",
   "pygments_lexer": "ipython3",
   "version": "3.7.6"
  }
 },
 "nbformat": 4,
 "nbformat_minor": 4
}
