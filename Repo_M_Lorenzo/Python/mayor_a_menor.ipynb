{
 "cells": [
  {
   "cell_type": "code",
   "execution_count": 6,
   "metadata": {},
   "outputs": [],
   "source": [
    "import random"
   ]
  },
  {
   "cell_type": "code",
   "execution_count": 7,
   "metadata": {},
   "outputs": [
    {
     "name": "stdout",
     "output_type": "stream",
     "text": [
      "Introduzca el numero de elementos de la lista:\n",
      "100\n"
     ]
    }
   ],
   "source": [
    "print(\"Introduzca el numero de elementos de la lista:\")\n",
    "elementos=int(input())\n",
    "lista=[]\n",
    "ordenada=[]\n",
    "for i in range(elementos):\n",
    "    a=random.randrange(elementos)\n",
    "    lista=lista+[a]"
   ]
  },
  {
   "cell_type": "code",
   "execution_count": 8,
   "metadata": {},
   "outputs": [],
   "source": [
    "lista.sort()"
   ]
  },
  {
   "cell_type": "code",
   "execution_count": 9,
   "metadata": {},
   "outputs": [
    {
     "name": "stdout",
     "output_type": "stream",
     "text": [
      "[0, 0, 1, 5, 5, 6, 7, 8, 8, 11, 11, 13, 13, 15, 15, 16, 18, 18, 19, 20, 24, 25, 25, 26, 26, 27, 28, 28, 29, 29, 32, 34, 35, 36, 36, 39, 39, 39, 40, 41, 41, 43, 46, 47, 49, 49, 50, 51, 52, 52, 55, 56, 56, 57, 57, 58, 58, 59, 60, 60, 61, 62, 62, 63, 63, 63, 64, 64, 64, 65, 66, 70, 72, 73, 74, 75, 75, 75, 76, 76, 79, 80, 80, 81, 83, 84, 85, 85, 88, 89, 91, 92, 94, 95, 95, 97, 97, 98, 98, 99]\n"
     ]
    }
   ],
   "source": [
    "print(lista)"
   ]
  },
  {
   "cell_type": "code",
   "execution_count": null,
   "metadata": {},
   "outputs": [],
   "source": []
  }
 ],
 "metadata": {
  "kernelspec": {
   "display_name": "Python 3",
   "language": "python",
   "name": "python3"
  },
  "language_info": {
   "codemirror_mode": {
    "name": "ipython",
    "version": 3
   },
   "file_extension": ".py",
   "mimetype": "text/x-python",
   "name": "python",
   "nbconvert_exporter": "python",
   "pygments_lexer": "ipython3",
   "version": "3.7.6"
  }
 },
 "nbformat": 4,
 "nbformat_minor": 4
}
