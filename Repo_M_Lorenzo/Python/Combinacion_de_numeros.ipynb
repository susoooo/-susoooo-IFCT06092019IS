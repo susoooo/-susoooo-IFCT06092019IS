{
 "cells": [
  {
   "cell_type": "code",
   "execution_count": null,
   "metadata": {},
   "outputs": [],
   "source": []
  },
  {
   "cell_type": "code",
   "execution_count": 6,
   "metadata": {},
   "outputs": [],
   "source": [
    "def combinacion(a,b):\n",
    "    if a>b:\n",
    "        combi=(math.factorial(a))*((math.factorial(b))*(math.factorial(a-b)))\n",
    "    else:\n",
    "        extra=b\n",
    "        b=a\n",
    "        a=extra\n",
    "        combi=(math.factorial(a))*((math.factorial(b))*(math.factorial(a-b)))\n",
    "    return combi"
   ]
  },
  {
   "cell_type": "code",
   "execution_count": 7,
   "metadata": {},
   "outputs": [],
   "source": [
    "import math"
   ]
  },
  {
   "cell_type": "code",
   "execution_count": 8,
   "metadata": {},
   "outputs": [
    {
     "name": "stdout",
     "output_type": "stream",
     "text": [
      "Introduzca el primer numero para la combinacion:\n",
      "5\n",
      "Introduzca el segundo numero para la combinacion:\n",
      "12\n"
     ]
    }
   ],
   "source": [
    "print(\"Introduzca el primer numero para la combinacion:\")\n",
    "a=int(input())\n",
    "print(\"Introduzca el segundo numero para la combinacion:\")\n",
    "b=int(input())\n"
   ]
  },
  {
   "cell_type": "code",
   "execution_count": 9,
   "metadata": {},
   "outputs": [],
   "source": [
    "resultado=combinacion(a,b)"
   ]
  },
  {
   "cell_type": "code",
   "execution_count": 10,
   "metadata": {},
   "outputs": [
    {
     "name": "stdout",
     "output_type": "stream",
     "text": [
      "289700167680000\n"
     ]
    }
   ],
   "source": [
    "print(resultado)"
   ]
  },
  {
   "cell_type": "code",
   "execution_count": null,
   "metadata": {},
   "outputs": [],
   "source": []
  }
 ],
 "metadata": {
  "kernelspec": {
   "display_name": "Python 3",
   "language": "python",
   "name": "python3"
  },
  "language_info": {
   "codemirror_mode": {
    "name": "ipython",
    "version": 3
   },
   "file_extension": ".py",
   "mimetype": "text/x-python",
   "name": "python",
   "nbconvert_exporter": "python",
   "pygments_lexer": "ipython3",
   "version": "3.7.6"
  }
 },
 "nbformat": 4,
 "nbformat_minor": 4
}
