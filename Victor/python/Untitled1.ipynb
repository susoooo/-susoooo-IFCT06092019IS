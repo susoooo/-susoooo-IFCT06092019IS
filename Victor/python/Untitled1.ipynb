{
 "cells": [
  {
   "cell_type": "code",
   "execution_count": null,
   "metadata": {},
   "outputs": [],
   "source": []
  },
  {
   "cell_type": "code",
   "execution_count": null,
   "metadata": {},
   "outputs": [],
   "source": []
  },
  {
   "cell_type": "markdown",
   "metadata": {},
   "source": [
    "# Programa para saber si un número es primo: (Resultado= 1 si es primo, 0 si no lo es).\n",
    "def primo(parametro1):\n",
    "\tcontador=2\n",
    "\tif(parametro1==2):\n",
    "\t\tresultado=1\t\n",
    "\telse:\n",
    "\t\twhile contador < parametro1:\n",
    "\t\t\tif(parametro1 % contador==0):\n",
    "\t\t\t\tresultado=0\n",
    "\t\t\t\tcontador=parametro1\n",
    "\t\t\telse:\n",
    "\t\t\t\tresultado=1\t\n",
    "\t\t\t\tcontador+=1\n",
    "\treturn resultado\n",
    "print (\"Introduce un número para saber si es primo: (Resultado= 1 si es primo, 0 si no lo es)\")\n",
    "a=input()\n",
    "a1=int(a)\n",
    "primo(a1)"
   ]
  },
  {
   "cell_type": "code",
   "execution_count": null,
   "metadata": {},
   "outputs": [],
   "source": []
  },
  {
   "cell_type": "code",
   "execution_count": null,
   "metadata": {},
   "outputs": [],
   "source": []
  }
 ],
 "metadata": {
  "kernelspec": {
   "display_name": "Python 3",
   "language": "python",
   "name": "python3"
  },
  "language_info": {
   "codemirror_mode": {
    "name": "ipython",
    "version": 3
   },
   "file_extension": ".py",
   "mimetype": "text/x-python",
   "name": "python",
   "nbconvert_exporter": "python",
   "pygments_lexer": "ipython3",
   "version": "3.7.6"
  }
 },
 "nbformat": 4,
 "nbformat_minor": 4
}
